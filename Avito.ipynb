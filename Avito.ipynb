{
 "cells": [
  {
   "cell_type": "markdown",
   "metadata": {},
   "source": [
    "Подключаем необходимые библиотеки"
   ]
  },
  {
   "cell_type": "code",
   "execution_count": 1,
   "metadata": {},
   "outputs": [],
   "source": [
    "import pandas as pd\n",
    "import numpy as np\n",
    "import nltk\n",
    "import string\n",
    "import pymorphy2\n",
    "morph = pymorphy2.MorphAnalyzer()\n",
    "from sklearn.feature_extraction.text import CountVectorizer\n",
    "from sklearn.linear_model import LogisticRegression\n",
    "from sklearn.model_selection import cross_val_score\n",
    "from scipy.sparse import csr_matrix, hstack\n",
    "from sklearn.metrics import accuracy_score\n",
    "from sklearn.model_selection import KFold\n",
    "from sklearn.preprocessing import StandardScaler\n",
    "import pickle"
   ]
  },
  {
   "cell_type": "markdown",
   "metadata": {},
   "source": [
    "Получаем данные о категориях товаров"
   ]
  },
  {
   "cell_type": "code",
   "execution_count": 2,
   "metadata": {},
   "outputs": [],
   "source": [
    "categories = pd.read_csv('category.csv', names=list(range(0, 7)), sep='[\\|\\,]', engine='python')\n",
    "categories.rename(columns={0: categories.iloc[0, 0]}, inplace=True)\n",
    "categories.drop(0, axis=0, inplace=True)\n",
    "categories.reset_index(drop=True, inplace=True)"
   ]
  },
  {
   "cell_type": "code",
   "execution_count": 3,
   "metadata": {},
   "outputs": [
    {
     "data": {
      "text/html": [
       "<div>\n",
       "<style scoped>\n",
       "    .dataframe tbody tr th:only-of-type {\n",
       "        vertical-align: middle;\n",
       "    }\n",
       "\n",
       "    .dataframe tbody tr th {\n",
       "        vertical-align: top;\n",
       "    }\n",
       "\n",
       "    .dataframe thead th {\n",
       "        text-align: right;\n",
       "    }\n",
       "</style>\n",
       "<table border=\"1\" class=\"dataframe\">\n",
       "  <thead>\n",
       "    <tr style=\"text-align: right;\">\n",
       "      <th></th>\n",
       "      <th>category_id</th>\n",
       "      <th>1</th>\n",
       "      <th>2</th>\n",
       "      <th>3</th>\n",
       "      <th>4</th>\n",
       "      <th>5</th>\n",
       "      <th>6</th>\n",
       "    </tr>\n",
       "  </thead>\n",
       "  <tbody>\n",
       "    <tr>\n",
       "      <th>0</th>\n",
       "      <td>0</td>\n",
       "      <td>Бытовая электроника</td>\n",
       "      <td>Телефоны</td>\n",
       "      <td>iPhone</td>\n",
       "      <td>None</td>\n",
       "      <td>None</td>\n",
       "      <td>None</td>\n",
       "    </tr>\n",
       "    <tr>\n",
       "      <th>1</th>\n",
       "      <td>1</td>\n",
       "      <td>Бытовая электроника</td>\n",
       "      <td>Ноутбуки</td>\n",
       "      <td>None</td>\n",
       "      <td>None</td>\n",
       "      <td>None</td>\n",
       "      <td>None</td>\n",
       "    </tr>\n",
       "    <tr>\n",
       "      <th>2</th>\n",
       "      <td>2</td>\n",
       "      <td>Бытовая электроника</td>\n",
       "      <td>Телефоны</td>\n",
       "      <td>Samsung</td>\n",
       "      <td>None</td>\n",
       "      <td>None</td>\n",
       "      <td>None</td>\n",
       "    </tr>\n",
       "    <tr>\n",
       "      <th>3</th>\n",
       "      <td>3</td>\n",
       "      <td>Бытовая электроника</td>\n",
       "      <td>Планшеты и электронные книги</td>\n",
       "      <td>Планшеты</td>\n",
       "      <td>None</td>\n",
       "      <td>None</td>\n",
       "      <td>None</td>\n",
       "    </tr>\n",
       "    <tr>\n",
       "      <th>4</th>\n",
       "      <td>4</td>\n",
       "      <td>\"Бытовая электроника</td>\n",
       "      <td>Игры</td>\n",
       "      <td>приставки и программы</td>\n",
       "      <td>Игровые приставки\"</td>\n",
       "      <td>None</td>\n",
       "      <td>None</td>\n",
       "    </tr>\n",
       "  </tbody>\n",
       "</table>\n",
       "</div>"
      ],
      "text/plain": [
       "  category_id                     1                             2  \\\n",
       "0           0   Бытовая электроника                      Телефоны   \n",
       "1           1   Бытовая электроника                      Ноутбуки   \n",
       "2           2   Бытовая электроника                      Телефоны   \n",
       "3           3   Бытовая электроника  Планшеты и электронные книги   \n",
       "4           4  \"Бытовая электроника                          Игры   \n",
       "\n",
       "                        3                   4     5     6  \n",
       "0                  iPhone                None  None  None  \n",
       "1                    None                None  None  None  \n",
       "2                 Samsung                None  None  None  \n",
       "3                Планшеты                None  None  None  \n",
       "4   приставки и программы  Игровые приставки\"  None  None  "
      ]
     },
     "execution_count": 3,
     "metadata": {},
     "output_type": "execute_result"
    }
   ],
   "source": [
    "categories.head()"
   ]
  },
  {
   "cell_type": "markdown",
   "metadata": {},
   "source": [
    "Заполняем пропуски в более низких уровнях иерархии категорий товаров. Удаляем кавычки"
   ]
  },
  {
   "cell_type": "code",
   "execution_count": 4,
   "metadata": {},
   "outputs": [],
   "source": [
    "for i in range(categories.shape[1]):\n",
    "    for j in range(categories.shape[0]):\n",
    "        if categories.iloc[j, i] is None:\n",
    "            categories.iloc[j, i] = categories.iloc[j, i - 1]\n",
    "for column in categories:\n",
    "    categories[column] = categories[column].apply(lambda s: s.replace(\"\\\"\", \"\"))"
   ]
  },
  {
   "cell_type": "code",
   "execution_count": 5,
   "metadata": {},
   "outputs": [
    {
     "data": {
      "text/html": [
       "<div>\n",
       "<style scoped>\n",
       "    .dataframe tbody tr th:only-of-type {\n",
       "        vertical-align: middle;\n",
       "    }\n",
       "\n",
       "    .dataframe tbody tr th {\n",
       "        vertical-align: top;\n",
       "    }\n",
       "\n",
       "    .dataframe thead th {\n",
       "        text-align: right;\n",
       "    }\n",
       "</style>\n",
       "<table border=\"1\" class=\"dataframe\">\n",
       "  <thead>\n",
       "    <tr style=\"text-align: right;\">\n",
       "      <th></th>\n",
       "      <th>category_id</th>\n",
       "      <th>1</th>\n",
       "      <th>2</th>\n",
       "      <th>3</th>\n",
       "      <th>4</th>\n",
       "      <th>5</th>\n",
       "      <th>6</th>\n",
       "    </tr>\n",
       "  </thead>\n",
       "  <tbody>\n",
       "    <tr>\n",
       "      <th>0</th>\n",
       "      <td>0</td>\n",
       "      <td>Бытовая электроника</td>\n",
       "      <td>Телефоны</td>\n",
       "      <td>iPhone</td>\n",
       "      <td>iPhone</td>\n",
       "      <td>iPhone</td>\n",
       "      <td>iPhone</td>\n",
       "    </tr>\n",
       "    <tr>\n",
       "      <th>1</th>\n",
       "      <td>1</td>\n",
       "      <td>Бытовая электроника</td>\n",
       "      <td>Ноутбуки</td>\n",
       "      <td>Ноутбуки</td>\n",
       "      <td>Ноутбуки</td>\n",
       "      <td>Ноутбуки</td>\n",
       "      <td>Ноутбуки</td>\n",
       "    </tr>\n",
       "    <tr>\n",
       "      <th>2</th>\n",
       "      <td>2</td>\n",
       "      <td>Бытовая электроника</td>\n",
       "      <td>Телефоны</td>\n",
       "      <td>Samsung</td>\n",
       "      <td>Samsung</td>\n",
       "      <td>Samsung</td>\n",
       "      <td>Samsung</td>\n",
       "    </tr>\n",
       "    <tr>\n",
       "      <th>3</th>\n",
       "      <td>3</td>\n",
       "      <td>Бытовая электроника</td>\n",
       "      <td>Планшеты и электронные книги</td>\n",
       "      <td>Планшеты</td>\n",
       "      <td>Планшеты</td>\n",
       "      <td>Планшеты</td>\n",
       "      <td>Планшеты</td>\n",
       "    </tr>\n",
       "    <tr>\n",
       "      <th>4</th>\n",
       "      <td>4</td>\n",
       "      <td>Бытовая электроника</td>\n",
       "      <td>Игры</td>\n",
       "      <td>приставки и программы</td>\n",
       "      <td>Игровые приставки</td>\n",
       "      <td>Игровые приставки</td>\n",
       "      <td>Игровые приставки</td>\n",
       "    </tr>\n",
       "  </tbody>\n",
       "</table>\n",
       "</div>"
      ],
      "text/plain": [
       "  category_id                    1                             2  \\\n",
       "0           0  Бытовая электроника                      Телефоны   \n",
       "1           1  Бытовая электроника                      Ноутбуки   \n",
       "2           2  Бытовая электроника                      Телефоны   \n",
       "3           3  Бытовая электроника  Планшеты и электронные книги   \n",
       "4           4  Бытовая электроника                          Игры   \n",
       "\n",
       "                        3                  4                  5  \\\n",
       "0                  iPhone             iPhone             iPhone   \n",
       "1                Ноутбуки           Ноутбуки           Ноутбуки   \n",
       "2                 Samsung            Samsung            Samsung   \n",
       "3                Планшеты           Планшеты           Планшеты   \n",
       "4   приставки и программы  Игровые приставки  Игровые приставки   \n",
       "\n",
       "                   6  \n",
       "0             iPhone  \n",
       "1           Ноутбуки  \n",
       "2            Samsung  \n",
       "3           Планшеты  \n",
       "4  Игровые приставки  "
      ]
     },
     "execution_count": 5,
     "metadata": {},
     "output_type": "execute_result"
    }
   ],
   "source": [
    "categories.head()"
   ]
  },
  {
   "cell_type": "markdown",
   "metadata": {},
   "source": [
    "Создаем словари для получения по категории 6 уровня категории более высокого уровня"
   ]
  },
  {
   "cell_type": "code",
   "execution_count": 6,
   "metadata": {},
   "outputs": [],
   "source": [
    "to_labels_lavel = dict()\n",
    "for i in range(1, 6):\n",
    "    to_labels_lavel[i] = dict()\n",
    "for i in range(categories.shape[0]):\n",
    "    for j in range(1, 6):\n",
    "        to_labels_lavel[j][int(categories.loc[i, 'category_id'])] = categories.loc[i, j]"
   ]
  },
  {
   "cell_type": "markdown",
   "metadata": {},
   "source": [
    "Получаем данные об объектах"
   ]
  },
  {
   "cell_type": "code",
   "execution_count": 7,
   "metadata": {},
   "outputs": [
    {
     "name": "stdout",
     "output_type": "stream",
     "text": [
      "(489517, 5)\n"
     ]
    }
   ],
   "source": [
    "train = pd.read_csv('train.csv')\n",
    "print(train.shape)"
   ]
  },
  {
   "cell_type": "code",
   "execution_count": 12,
   "metadata": {},
   "outputs": [
    {
     "name": "stdout",
     "output_type": "stream",
     "text": [
      "(243166, 4)\n"
     ]
    }
   ],
   "source": [
    "test = pd.read_csv('test.csv')\n",
    "print(test.shape)"
   ]
  },
  {
   "cell_type": "code",
   "execution_count": 9,
   "metadata": {},
   "outputs": [
    {
     "data": {
      "text/html": [
       "<div>\n",
       "<style scoped>\n",
       "    .dataframe tbody tr th:only-of-type {\n",
       "        vertical-align: middle;\n",
       "    }\n",
       "\n",
       "    .dataframe tbody tr th {\n",
       "        vertical-align: top;\n",
       "    }\n",
       "\n",
       "    .dataframe thead th {\n",
       "        text-align: right;\n",
       "    }\n",
       "</style>\n",
       "<table border=\"1\" class=\"dataframe\">\n",
       "  <thead>\n",
       "    <tr style=\"text-align: right;\">\n",
       "      <th></th>\n",
       "      <th>item_id</th>\n",
       "      <th>title</th>\n",
       "      <th>description</th>\n",
       "      <th>price</th>\n",
       "      <th>category_id</th>\n",
       "    </tr>\n",
       "  </thead>\n",
       "  <tbody>\n",
       "    <tr>\n",
       "      <th>0</th>\n",
       "      <td>0</td>\n",
       "      <td>Картина</td>\n",
       "      <td>Гобелен. Размеры 139х84см.</td>\n",
       "      <td>1000.0</td>\n",
       "      <td>19</td>\n",
       "    </tr>\n",
       "    <tr>\n",
       "      <th>1</th>\n",
       "      <td>1</td>\n",
       "      <td>Стулья из прессованной кожи</td>\n",
       "      <td>Продам недорого 4 стула из светлой прессованно...</td>\n",
       "      <td>1250.0</td>\n",
       "      <td>22</td>\n",
       "    </tr>\n",
       "    <tr>\n",
       "      <th>2</th>\n",
       "      <td>2</td>\n",
       "      <td>Домашняя мини баня</td>\n",
       "      <td>Мини баня МБ-1(мини сауна), предназначена для ...</td>\n",
       "      <td>13000.0</td>\n",
       "      <td>37</td>\n",
       "    </tr>\n",
       "    <tr>\n",
       "      <th>3</th>\n",
       "      <td>3</td>\n",
       "      <td>Эксклюзивная коллекция книг \"Трансаэро\" + подарок</td>\n",
       "      <td>Продам эксклюзивную коллекцию книг, выпущенную...</td>\n",
       "      <td>4000.0</td>\n",
       "      <td>43</td>\n",
       "    </tr>\n",
       "    <tr>\n",
       "      <th>4</th>\n",
       "      <td>4</td>\n",
       "      <td>Ноутбук aser</td>\n",
       "      <td>Продаётся ноутбук ACER e5-511C2TA. Куплен в ко...</td>\n",
       "      <td>19000.0</td>\n",
       "      <td>1</td>\n",
       "    </tr>\n",
       "  </tbody>\n",
       "</table>\n",
       "</div>"
      ],
      "text/plain": [
       "   item_id                                              title  \\\n",
       "0        0                                            Картина   \n",
       "1        1                        Стулья из прессованной кожи   \n",
       "2        2                                 Домашняя мини баня   \n",
       "3        3  Эксклюзивная коллекция книг \"Трансаэро\" + подарок   \n",
       "4        4                                       Ноутбук aser   \n",
       "\n",
       "                                         description    price  category_id  \n",
       "0                         Гобелен. Размеры 139х84см.   1000.0           19  \n",
       "1  Продам недорого 4 стула из светлой прессованно...   1250.0           22  \n",
       "2  Мини баня МБ-1(мини сауна), предназначена для ...  13000.0           37  \n",
       "3  Продам эксклюзивную коллекцию книг, выпущенную...   4000.0           43  \n",
       "4  Продаётся ноутбук ACER e5-511C2TA. Куплен в ко...  19000.0            1  "
      ]
     },
     "execution_count": 9,
     "metadata": {},
     "output_type": "execute_result"
    }
   ],
   "source": [
    "train.head()"
   ]
  },
  {
   "cell_type": "code",
   "execution_count": 10,
   "metadata": {},
   "outputs": [
    {
     "data": {
      "text/html": [
       "<div>\n",
       "<style scoped>\n",
       "    .dataframe tbody tr th:only-of-type {\n",
       "        vertical-align: middle;\n",
       "    }\n",
       "\n",
       "    .dataframe tbody tr th {\n",
       "        vertical-align: top;\n",
       "    }\n",
       "\n",
       "    .dataframe thead th {\n",
       "        text-align: right;\n",
       "    }\n",
       "</style>\n",
       "<table border=\"1\" class=\"dataframe\">\n",
       "  <thead>\n",
       "    <tr style=\"text-align: right;\">\n",
       "      <th></th>\n",
       "      <th>item_id</th>\n",
       "      <th>title</th>\n",
       "      <th>description</th>\n",
       "      <th>price</th>\n",
       "    </tr>\n",
       "  </thead>\n",
       "  <tbody>\n",
       "    <tr>\n",
       "      <th>0</th>\n",
       "      <td>489517</td>\n",
       "      <td>Стоик журнальный сталь</td>\n",
       "      <td>продам журнальный столик изготавливаю столы из...</td>\n",
       "      <td>10000.0</td>\n",
       "    </tr>\n",
       "    <tr>\n",
       "      <th>1</th>\n",
       "      <td>489518</td>\n",
       "      <td>iPhone 5 64Gb</td>\n",
       "      <td>Телефон в хорошем состоянии. Комплект, гаранти...</td>\n",
       "      <td>12500.0</td>\n",
       "    </tr>\n",
       "    <tr>\n",
       "      <th>2</th>\n",
       "      <td>489519</td>\n",
       "      <td>Утеплитель</td>\n",
       "      <td>ТЕПЛОПЕЛЕН-ЛИДЕР ТЕПЛА!!! Толщина утеплителя :...</td>\n",
       "      <td>250.0</td>\n",
       "    </tr>\n",
       "    <tr>\n",
       "      <th>3</th>\n",
       "      <td>489520</td>\n",
       "      <td>Пальто демисезонное</td>\n",
       "      <td>Продам пальто женское (букле) в отличном состо...</td>\n",
       "      <td>1700.0</td>\n",
       "    </tr>\n",
       "    <tr>\n",
       "      <th>4</th>\n",
       "      <td>489521</td>\n",
       "      <td>Samsung syncmaster T200N</td>\n",
       "      <td>Условно рабочий, проблема в панели настройки м...</td>\n",
       "      <td>1000.0</td>\n",
       "    </tr>\n",
       "  </tbody>\n",
       "</table>\n",
       "</div>"
      ],
      "text/plain": [
       "   item_id                     title  \\\n",
       "0   489517    Стоик журнальный сталь   \n",
       "1   489518             iPhone 5 64Gb   \n",
       "2   489519                Утеплитель   \n",
       "3   489520       Пальто демисезонное   \n",
       "4   489521  Samsung syncmaster T200N   \n",
       "\n",
       "                                         description    price  \n",
       "0  продам журнальный столик изготавливаю столы из...  10000.0  \n",
       "1  Телефон в хорошем состоянии. Комплект, гаранти...  12500.0  \n",
       "2  ТЕПЛОПЕЛЕН-ЛИДЕР ТЕПЛА!!! Толщина утеплителя :...    250.0  \n",
       "3  Продам пальто женское (букле) в отличном состо...   1700.0  \n",
       "4  Условно рабочий, проблема в панели настройки м...   1000.0  "
      ]
     },
     "execution_count": 10,
     "metadata": {},
     "output_type": "execute_result"
    }
   ],
   "source": [
    "test.head()"
   ]
  },
  {
   "cell_type": "markdown",
   "metadata": {},
   "source": [
    "Функция, прводящая слова в тексте к начальной форме и отбрасывающая союзы, междометья, частицы, предикативы и местоимения"
   ]
  },
  {
   "cell_type": "code",
   "execution_count": 13,
   "metadata": {},
   "outputs": [],
   "source": [
    "def text_normalization(text):\n",
    "    tokens = nltk.word_tokenize(text)\n",
    "    tokens = [morph.parse(token)[0].normal_form for token in tokens if (morph.parse(token)[0].tag.POS not in ['INTJ', 'PRCL', 'CONJ', 'PRED', 'NPRO'])]\n",
    "    new_text =' '.join(tokens)\n",
    "    return new_text"
   ]
  },
  {
   "cell_type": "markdown",
   "metadata": {},
   "source": [
    "Соединяем тексты заголовка и объявления в один"
   ]
  },
  {
   "cell_type": "code",
   "execution_count": 15,
   "metadata": {},
   "outputs": [],
   "source": [
    "for i in range(train.shape[0]):\n",
    "    train.loc[i, 'words'] = train.loc[i, 'title'] + ' ' + train.loc[i, 'description']\n",
    "for i in range(test.shape[0]):\n",
    "    test.loc[i, 'words'] = test.loc[i, 'title'] + ' ' + test.loc[i, 'description']"
   ]
  },
  {
   "cell_type": "markdown",
   "metadata": {},
   "source": [
    "Преобразуем слова в текстах"
   ]
  },
  {
   "cell_type": "code",
   "execution_count": null,
   "metadata": {},
   "outputs": [],
   "source": [
    "train['words'] = train['words'].apply(text_normalization)\n",
    "test['words'] = test['words'].apply(text_normalization)"
   ]
  },
  {
   "cell_type": "markdown",
   "metadata": {},
   "source": [
    "Масштабируем предиктор \"цена\" и упаковываем в сжатую матрицу"
   ]
  },
  {
   "cell_type": "code",
   "execution_count": 14,
   "metadata": {},
   "outputs": [],
   "source": [
    "scaler = StandardScaler()\n",
    "price = scaler.fit_transform(np.array(train['price']).reshape(-1, 1))\n",
    "price = csr_matrix(price)\n",
    "test_price = scaler.transform(np.array(test['price']).reshape(-1, 1))\n",
    "test_price = csr_matrix(test_price)"
   ]
  },
  {
   "cell_type": "markdown",
   "metadata": {},
   "source": [
    "Приводим слова объявления в нижний регистр и создаем мешок слов из слов объявления и биграмм"
   ]
  },
  {
   "cell_type": "code",
   "execution_count": 15,
   "metadata": {},
   "outputs": [],
   "source": [
    "count_vect = CountVectorizer(lowercase=True, ngram_range=(1, 2), dtype=np.int16)\n",
    "bag = count_vect.fit_transform(list(train['words']))\n",
    "bag = csr_matrix(hstack([bag, price]))\n",
    "test_bag = count_vect.transform(list(test['words']))\n",
    "test_bag = csr_matrix(hstack([test_bag, test_price]))"
   ]
  },
  {
   "cell_type": "markdown",
   "metadata": {},
   "source": [
    "Функция кросс валидации"
   ]
  },
  {
   "cell_type": "code",
   "execution_count": 9,
   "metadata": {},
   "outputs": [],
   "source": [
    "def cross_val(df, labels):\n",
    "    \n",
    "    kf = KFold(n_splits=3)\n",
    "    accur = []\n",
    "    it = 1\n",
    "    for train, test in kf.split(df):\n",
    "        print('split: ' + str(it))\n",
    "        it += 1\n",
    "        # На каждой итерации разбиваем выборку на тестовую и тренировочную\n",
    "        X_train = df[train]\n",
    "        X_test = df[test]\n",
    "        y_train = labels[train]\n",
    "        y_test = dict()\n",
    "        y_test[6] = labels[test]\n",
    "        # Создаем ответы для каждого уроня иерархии категорий\n",
    "        for i in range(1, 6):\n",
    "            y_test[i] = []\n",
    "            for y in y_test[6]:            \n",
    "                y_test[i].append(to_labels_lavel[i][y])\n",
    "        # Обучаем модель\n",
    "        # Предсказываем категорию 6 уровня иерархии\n",
    "        model = LogisticRegression(C=0.2, multi_class='auto', solver='liblinear', max_iter=200)\n",
    "        model.fit(X_train, y_train.values.ravel())\n",
    "        y_pred = dict()\n",
    "        y_pred[6] = model.predict(X_test)\n",
    "        # Вычисляем ответы для каждого уровня иерархии категорий\n",
    "        for i in range(1, 6):\n",
    "            y_pred[i] = []\n",
    "            for y in y_pred[6]:\n",
    "                y_pred[i].append(to_labels_lavel[i][y])\n",
    "        # Вычисляем accuracy для каждого уровня иерархии категорий        \n",
    "        new_accur = []\n",
    "        for i in range(1, 7):\n",
    "            new_accur.append(accuracy_score(y_test[i], y_pred[i]))\n",
    "        new_accur = np.array(new_accur)\n",
    "        accur.append(new_accur)\n",
    "    # Усредняем accuracy по всем итерациям кросс валидации\n",
    "    accur = np.array(accur)\n",
    "    accur = accur.T\n",
    "    result_accur = []\n",
    "    for i in range(len(accur)):\n",
    "        result_accur.append(accur[i].mean())\n",
    "    return result_accur"
   ]
  },
  {
   "cell_type": "markdown",
   "metadata": {},
   "source": [
    "Обучаем модель, применяя при этом регуляризацию. \n",
    "Предсказываем категории товаров тестовой выборки.\n",
    "Создаем таблицу с результатами скоринга.\n",
    "В качестве модели была выбрана Логистическая ререссия, так как она хорошо работает с большим количеством пизнаков."
   ]
  },
  {
   "cell_type": "code",
   "execution_count": 17,
   "metadata": {},
   "outputs": [
    {
     "name": "stderr",
     "output_type": "stream",
     "text": [
      "/usr/local/lib/python3.5/dist-packages/sklearn/svm/base.py:922: ConvergenceWarning: Liblinear failed to converge, increase the number of iterations.\n",
      "  \"the number of iterations.\", ConvergenceWarning)\n"
     ]
    }
   ],
   "source": [
    "model = LogisticRegression(C=0.2, multi_class='auto', solver='liblinear')\n",
    "model.fit(bag, train['category_id'])\n",
    "test_y_pred_level_6 = model.predict(test_bag)\n",
    "result = pd.concat([test['item_id'], pd.Series(test_y_pred_level_6, name='category_id')], axis=1)"
   ]
  },
  {
   "cell_type": "code",
   "execution_count": 18,
   "metadata": {},
   "outputs": [
    {
     "data": {
      "text/html": [
       "<div>\n",
       "<style scoped>\n",
       "    .dataframe tbody tr th:only-of-type {\n",
       "        vertical-align: middle;\n",
       "    }\n",
       "\n",
       "    .dataframe tbody tr th {\n",
       "        vertical-align: top;\n",
       "    }\n",
       "\n",
       "    .dataframe thead th {\n",
       "        text-align: right;\n",
       "    }\n",
       "</style>\n",
       "<table border=\"1\" class=\"dataframe\">\n",
       "  <thead>\n",
       "    <tr style=\"text-align: right;\">\n",
       "      <th></th>\n",
       "      <th>item_id</th>\n",
       "      <th>category_id</th>\n",
       "    </tr>\n",
       "  </thead>\n",
       "  <tbody>\n",
       "    <tr>\n",
       "      <th>0</th>\n",
       "      <td>489517</td>\n",
       "      <td>22</td>\n",
       "    </tr>\n",
       "    <tr>\n",
       "      <th>1</th>\n",
       "      <td>489518</td>\n",
       "      <td>0</td>\n",
       "    </tr>\n",
       "    <tr>\n",
       "      <th>2</th>\n",
       "      <td>489519</td>\n",
       "      <td>15</td>\n",
       "    </tr>\n",
       "    <tr>\n",
       "      <th>3</th>\n",
       "      <td>489520</td>\n",
       "      <td>33</td>\n",
       "    </tr>\n",
       "    <tr>\n",
       "      <th>4</th>\n",
       "      <td>489521</td>\n",
       "      <td>13</td>\n",
       "    </tr>\n",
       "  </tbody>\n",
       "</table>\n",
       "</div>"
      ],
      "text/plain": [
       "   item_id  category_id\n",
       "0   489517           22\n",
       "1   489518            0\n",
       "2   489519           15\n",
       "3   489520           33\n",
       "4   489521           13"
      ]
     },
     "execution_count": 18,
     "metadata": {},
     "output_type": "execute_result"
    }
   ],
   "source": [
    "result.head()"
   ]
  },
  {
   "cell_type": "code",
   "execution_count": 19,
   "metadata": {},
   "outputs": [],
   "source": [
    "result.to_csv('result.csv')"
   ]
  },
  {
   "cell_type": "code",
   "execution_count": 22,
   "metadata": {},
   "outputs": [],
   "source": [
    "pickle.dump(bag, open('bag.sav', 'wb'))"
   ]
  },
  {
   "cell_type": "code",
   "execution_count": 10,
   "metadata": {},
   "outputs": [],
   "source": [
    "bag = pickle.load(open('bag.sav', 'rb'))"
   ]
  },
  {
   "cell_type": "markdown",
   "metadata": {},
   "source": [
    "При помощи кросс валидации определяем accuracy на каждом уровне иерархии"
   ]
  },
  {
   "cell_type": "code",
   "execution_count": 11,
   "metadata": {},
   "outputs": [
    {
     "name": "stdout",
     "output_type": "stream",
     "text": [
      "split: 1\n",
      "split: 2\n",
      "split: 3\n",
      "Accuracy on 1 layer: 0.959\n",
      "Accuracy on 2 layer: 0.939\n",
      "Accuracy on 3 layer: 0.894\n",
      "Accuracy on 4 layer: 0.893\n",
      "Accuracy on 5 layer: 0.887\n",
      "Accuracy on 6 layer: 0.881\n"
     ]
    }
   ],
   "source": [
    "scores = cross_val(bag, train['category_id'])\n",
    "for i in range(len(scores)):\n",
    "    print('Accuracy on ' + str(i + 1) + ' layer: ' + str(round(scores[i], 3)))"
   ]
  },
  {
   "cell_type": "code",
   "execution_count": null,
   "metadata": {},
   "outputs": [],
   "source": []
  },
  {
   "cell_type": "code",
   "execution_count": null,
   "metadata": {},
   "outputs": [],
   "source": []
  }
 ],
 "metadata": {
  "kernelspec": {
   "display_name": "Python 3",
   "language": "python",
   "name": "python3"
  },
  "language_info": {
   "codemirror_mode": {
    "name": "ipython",
    "version": 3
   },
   "file_extension": ".py",
   "mimetype": "text/x-python",
   "name": "python",
   "nbconvert_exporter": "python",
   "pygments_lexer": "ipython3",
   "version": "3.5.2"
  }
 },
 "nbformat": 4,
 "nbformat_minor": 2
}
